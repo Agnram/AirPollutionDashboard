{
 "cells": [
  {
   "cell_type": "markdown",
   "id": "6c4cebf9",
   "metadata": {
    "papermill": {
     "duration": 0.008251,
     "end_time": "2024-01-08T08:22:29.047578",
     "exception": false,
     "start_time": "2024-01-08T08:22:29.039327",
     "status": "completed"
    },
    "tags": []
   },
   "source": [
    "## Welcome to your notebook.\n"
   ]
  },
  {
   "cell_type": "markdown",
   "id": "9093bce7",
   "metadata": {
    "papermill": {
     "duration": 0.008968,
     "end_time": "2024-01-08T08:22:29.068819",
     "exception": false,
     "start_time": "2024-01-08T08:22:29.059851",
     "status": "completed"
    },
    "tags": []
   },
   "source": [
    "#### Run this cell to connect to your GIS and get started:"
   ]
  },
  {
   "cell_type": "code",
   "execution_count": 1,
   "id": "0302c2ec",
   "metadata": {
    "execution": {
     "iopub.execute_input": "2024-01-08T08:22:29.080013Z",
     "iopub.status.busy": "2024-01-08T08:22:29.079677Z",
     "iopub.status.idle": "2024-01-08T08:22:31.892454Z",
     "shell.execute_reply": "2024-01-08T08:22:31.891678Z"
    },
    "papermill": {
     "duration": 2.821276,
     "end_time": "2024-01-08T08:22:31.894811",
     "exception": false,
     "start_time": "2024-01-08T08:22:29.073535",
     "status": "completed"
    },
    "tags": []
   },
   "outputs": [],
   "source": [
    "from arcgis.gis import GIS\n",
    "\n",
    "gis = GIS(\"home\")"
   ]
  },
  {
   "cell_type": "markdown",
   "id": "3edeb3e2",
   "metadata": {
    "papermill": {
     "duration": 0.009615,
     "end_time": "2024-01-08T08:22:31.909274",
     "exception": false,
     "start_time": "2024-01-08T08:22:31.899659",
     "status": "completed"
    },
    "tags": []
   },
   "source": [
    "#### Now you are ready to start!"
   ]
  },
  {
   "cell_type": "code",
   "execution_count": 2,
   "id": "3dc151d0",
   "metadata": {
    "execution": {
     "iopub.execute_input": "2024-01-08T08:22:31.922094Z",
     "iopub.status.busy": "2024-01-08T08:22:31.921571Z",
     "iopub.status.idle": "2024-01-08T08:22:32.521421Z",
     "shell.execute_reply": "2024-01-08T08:22:32.520743Z"
    },
    "papermill": {
     "duration": 0.609681,
     "end_time": "2024-01-08T08:22:32.523599",
     "exception": false,
     "start_time": "2024-01-08T08:22:31.913918",
     "status": "completed"
    },
    "tags": []
   },
   "outputs": [],
   "source": [
    "import pandas as pd\n",
    "import arcgis\n",
    "import json\n",
    "import requests\n",
    "from arcgis.apps.dashboard import Gauge, MapLegend, NumberSelector, PieChart, RichText, SidePanel,Indicator, List, SerialChart, CategorySelector, DatePicker, Details, EmbeddedContent\n",
    "from arcgis.apps.dashboard import Dashboard, add_column, add_row\n",
    "from arcgis.features import GeoAccessor, GeoSeriesAccessor\n",
    "from time import sleep"
   ]
  },
  {
   "cell_type": "code",
   "execution_count": 3,
   "id": "715b56b4",
   "metadata": {
    "execution": {
     "iopub.execute_input": "2024-01-08T08:22:32.537176Z",
     "iopub.status.busy": "2024-01-08T08:22:32.536801Z",
     "iopub.status.idle": "2024-01-08T08:22:34.619321Z",
     "shell.execute_reply": "2024-01-08T08:22:34.618475Z"
    },
    "papermill": {
     "duration": 2.092699,
     "end_time": "2024-01-08T08:22:34.621944",
     "exception": false,
     "start_time": "2024-01-08T08:22:32.529245",
     "status": "completed"
    },
    "tags": []
   },
   "outputs": [],
   "source": [
    "nr_stacji = pd.read_excel('/arcgis/home/nr_stacji.xlsx')"
   ]
  },
  {
   "cell_type": "code",
   "execution_count": 4,
   "id": "db7857c3",
   "metadata": {
    "execution": {
     "iopub.execute_input": "2024-01-08T08:22:34.639482Z",
     "iopub.status.busy": "2024-01-08T08:22:34.639171Z",
     "iopub.status.idle": "2024-01-08T08:22:34.643380Z",
     "shell.execute_reply": "2024-01-08T08:22:34.642783Z"
    },
    "papermill": {
     "duration": 0.013544,
     "end_time": "2024-01-08T08:22:34.646224",
     "exception": false,
     "start_time": "2024-01-08T08:22:34.632680",
     "status": "completed"
    },
    "tags": []
   },
   "outputs": [],
   "source": [
    "#respond_st_0=requests.get(f\"https://api.gios.gov.pl/pjp-api/v1/rest/metadata/sensors?page=0&size=500\")\n",
    "#data_st_0=json.loads(respond_st_0.text)\n",
    "#stanowiska=pd.DataFrame(data_st_0['Lista metadanych stanowisk pomiarowych'])\n",
    "\n",
    "#respond_sta_0=requests.get(f\"https://api.gios.gov.pl/pjp-api/v1/rest/metadata/stations?page=0&size=500\")\n",
    "#data_sta_0=json.loads(respond_sta_0.text)\n",
    "#stacje=pd.DataFrame(data_sta_0['Lista metadanych stacji pomiarowych'])\n",
    "\n",
    "#for i in range(1,23):\n",
    "#    respond_st=requests.get(f\"https://api.gios.gov.pl/pjp-api/v1/rest/metadata/sensors?page={i}&size=500\")\n",
    "#    data_st=json.loads(respond_st.text)\n",
    "#    try:\n",
    "#        data_st['Lista metadanych stanowisk pomiarowych']\n",
    "#    except KeyError:\n",
    "#        exists = False\n",
    "#    else:\n",
    "#        d_st=pd.DataFrame(data_st['Lista metadanych stanowisk pomiarowych'])\n",
    "#        stanowiska=pd.concat([stanowiska,d_st])\n",
    "#to nie git\n",
    "\n",
    "#for i in range(1,3):\n",
    "#    respond_sta=requests.get(f\"https://api.gios.gov.pl/pjp-api/v1/rest/metadata/stations?page={i}&size=500\")\n",
    "#    data_sta=json.loads(respond_sta.text)\n",
    "#    try:\n",
    "#        data_sta['Lista metadanych stacji pomiarowych']\n",
    "#    except KeyError:\n",
    "#        exists = False\n",
    "#    else:\n",
    "#        d_sta=pd.DataFrame(data_sta['Lista metadanych stacji pomiarowych'])\n",
    "#        stacje=pd.concat([stacje,d_sta])\n",
    "#to nie git"
   ]
  },
  {
   "cell_type": "code",
   "execution_count": 5,
   "id": "c910475c",
   "metadata": {
    "execution": {
     "iopub.execute_input": "2024-01-08T08:22:34.659156Z",
     "iopub.status.busy": "2024-01-08T08:22:34.658782Z",
     "iopub.status.idle": "2024-01-08T08:22:36.074935Z",
     "shell.execute_reply": "2024-01-08T08:22:36.074153Z"
    },
    "papermill": {
     "duration": 1.427551,
     "end_time": "2024-01-08T08:22:36.079468",
     "exception": false,
     "start_time": "2024-01-08T08:22:34.651917",
     "status": "completed"
    },
    "tags": []
   },
   "outputs": [],
   "source": [
    "stanowiska_1 = pd.read_excel('/arcgis/home/stanowiska_1.xlsx')"
   ]
  },
  {
   "cell_type": "code",
   "execution_count": 6,
   "id": "08af20c8",
   "metadata": {
    "execution": {
     "iopub.execute_input": "2024-01-08T08:22:36.090991Z",
     "iopub.status.busy": "2024-01-08T08:22:36.090194Z",
     "iopub.status.idle": "2024-01-08T08:22:36.526825Z",
     "shell.execute_reply": "2024-01-08T08:22:36.522891Z"
    },
    "papermill": {
     "duration": 0.445085,
     "end_time": "2024-01-08T08:22:36.529148",
     "exception": false,
     "start_time": "2024-01-08T08:22:36.084063",
     "status": "completed"
    },
    "tags": []
   },
   "outputs": [],
   "source": [
    "stacje_1 = pd.read_excel('/arcgis/home/stacje_1.xlsx')"
   ]
  },
  {
   "cell_type": "code",
   "execution_count": 7,
   "id": "dda3bc56",
   "metadata": {
    "execution": {
     "iopub.execute_input": "2024-01-08T08:22:36.549253Z",
     "iopub.status.busy": "2024-01-08T08:22:36.548877Z",
     "iopub.status.idle": "2024-01-08T08:22:36.559376Z",
     "shell.execute_reply": "2024-01-08T08:22:36.558612Z"
    },
    "papermill": {
     "duration": 0.019383,
     "end_time": "2024-01-08T08:22:36.561653",
     "exception": false,
     "start_time": "2024-01-08T08:22:36.542270",
     "status": "completed"
    },
    "tags": []
   },
   "outputs": [],
   "source": [
    "columns=['Kod stanowiska','Data','Wartość']\n",
    "d_pm10= pd.DataFrame(columns=columns)\n",
    "d_pm25= pd.DataFrame(columns=columns)\n",
    "d_cdm= pd.DataFrame(columns=columns)\n",
    "#d_x=pd.DataFrame(columns=columns)\n"
   ]
  },
  {
   "cell_type": "code",
   "execution_count": 8,
   "id": "d46cbd32",
   "metadata": {
    "execution": {
     "iopub.execute_input": "2024-01-08T08:22:36.575272Z",
     "iopub.status.busy": "2024-01-08T08:22:36.574899Z",
     "iopub.status.idle": "2024-01-08T08:22:36.578405Z",
     "shell.execute_reply": "2024-01-08T08:22:36.577788Z"
    },
    "papermill": {
     "duration": 0.013359,
     "end_time": "2024-01-08T08:22:36.581642",
     "exception": false,
     "start_time": "2024-01-08T08:22:36.568283",
     "status": "completed"
    },
    "tags": []
   },
   "outputs": [],
   "source": [
    "#testy\n",
    "#k=51\n",
    "#responsen = requests.get(f\"https://api.gios.gov.pl/pjp-api/v1/rest/data/getData/{k+1}\")\n",
    "#data_temn=json.loads(responsen.text)\n",
    "#d_x3n=pd.DataFrame(columns=columns)\n",
    "#dfxn=pd.DataFrame(data_temn['Lista danych pomiarowych'])\n",
    "#print(dfxn[\"Wartość\"][1])\n",
    "#d_x3n=pd.concat([d_x3n, dfxn.take([1])])\n"
   ]
  },
  {
   "cell_type": "code",
   "execution_count": 9,
   "id": "f0951e95",
   "metadata": {
    "execution": {
     "iopub.execute_input": "2024-01-08T08:22:36.595006Z",
     "iopub.status.busy": "2024-01-08T08:22:36.594619Z",
     "iopub.status.idle": "2024-01-08T09:33:50.833194Z",
     "shell.execute_reply": "2024-01-08T09:33:50.832578Z"
    },
    "papermill": {
     "duration": 4274.24788,
     "end_time": "2024-01-08T09:33:50.834774",
     "exception": false,
     "start_time": "2024-01-08T08:22:36.586894",
     "status": "completed"
    },
    "tags": []
   },
   "outputs": [],
   "source": [
    "for i in range(5522):\n",
    "    #sleep(3)\n",
    "    try:   \n",
    "        response = requests.get(f\"https://api.gios.gov.pl/pjp-api/v1/rest/data/getData/{i+1}\")\n",
    "        data_temp=json.loads(response.text)\n",
    "        try:\n",
    "            data_temp['Lista danych pomiarowych']\n",
    "        except KeyError:\n",
    "            exists = False\n",
    "        else:\n",
    "            if (data_temp['Lista danych pomiarowych'] is not None):\n",
    "                if(data_temp['Lista danych pomiarowych']!=[]):\n",
    "                    df=pd.DataFrame(data_temp['Lista danych pomiarowych'])\n",
    "                    if(df['Wartość'][0]!=None):\n",
    "                        if(\"-PM10-\" in df['Kod stanowiska'][0]):\n",
    "                            d_pm10=pd.concat([d_pm10, df.take([0])])\n",
    "                        elif(\"-PM2.5-\" in df['Kod stanowiska'][0]):\n",
    "                            d_pm25=pd.concat([d_pm25, df.take([0])])\n",
    "                        elif(\"-O3-\" in df['Kod stanowiska'][0] ):\n",
    "                            d_cdm=pd.concat([d_cdm, df.take([0])])\n",
    "    except requests.exceptions.ConnectionError:\n",
    "        exists = False\n"
   ]
  },
  {
   "cell_type": "code",
   "execution_count": 10,
   "id": "e9661959",
   "metadata": {
    "execution": {
     "iopub.execute_input": "2024-01-08T09:33:50.864778Z",
     "iopub.status.busy": "2024-01-08T09:33:50.864518Z",
     "iopub.status.idle": "2024-01-08T09:33:50.882506Z",
     "shell.execute_reply": "2024-01-08T09:33:50.881872Z"
    },
    "papermill": {
     "duration": 0.023514,
     "end_time": "2024-01-08T09:33:50.883916",
     "exception": false,
     "start_time": "2024-01-08T09:33:50.860402",
     "status": "completed"
    },
    "tags": []
   },
   "outputs": [],
   "source": [
    "#usuwanie  duplikatów i wierszy z NA\n",
    "d_cdm=d_cdm.drop_duplicates().dropna()\n",
    "d_pm10=d_pm10.drop_duplicates().dropna()\n",
    "d_pm25=d_pm25.drop_duplicates().dropna()\n"
   ]
  },
  {
   "cell_type": "code",
   "execution_count": 11,
   "id": "4da53e4e",
   "metadata": {
    "execution": {
     "iopub.execute_input": "2024-01-08T09:33:50.890815Z",
     "iopub.status.busy": "2024-01-08T09:33:50.890580Z",
     "iopub.status.idle": "2024-01-08T09:33:50.930877Z",
     "shell.execute_reply": "2024-01-08T09:33:50.930257Z"
    },
    "papermill": {
     "duration": 0.04569,
     "end_time": "2024-01-08T09:33:50.932483",
     "exception": false,
     "start_time": "2024-01-08T09:33:50.886793",
     "status": "completed"
    },
    "tags": []
   },
   "outputs": [],
   "source": [
    "#łączenie dataframe stanowisk i stacji w jedna ramke\n",
    "df_new=pd.merge(stanowiska_1,stacje_1,how=\"left\",on=[\"Kod stacji\"])\n",
    "df_new_3=df_new[[\"Kod stanowiska\",\"WGS84 φ N\",\"WGS84 λ E\",\"Nazwa strefy\",\"Typ obszaru\",\"Miejscowość\"]]\n",
    "df_new_3=df_new_3.rename(columns={\"WGS84 φ N\":\"y\",\"WGS84 λ E\":\"x\"})\n",
    "\n",
    "\n"
   ]
  },
  {
   "cell_type": "code",
   "execution_count": 12,
   "id": "87931e77",
   "metadata": {
    "execution": {
     "iopub.execute_input": "2024-01-08T09:33:50.939407Z",
     "iopub.status.busy": "2024-01-08T09:33:50.939175Z",
     "iopub.status.idle": "2024-01-08T09:33:50.950488Z",
     "shell.execute_reply": "2024-01-08T09:33:50.949864Z"
    },
    "papermill": {
     "duration": 0.016518,
     "end_time": "2024-01-08T09:33:50.951888",
     "exception": false,
     "start_time": "2024-01-08T09:33:50.935370",
     "status": "completed"
    },
    "scrolled": true,
    "tags": []
   },
   "outputs": [],
   "source": [
    "#łączenie wyników z ramką z współrzędnymi\n",
    "df_new_pm10=pd.merge(d_pm10,df_new_3,how=\"left\",on=[\"Kod stanowiska\"])\n",
    "df_new_pm25=pd.merge(d_pm25,df_new_3,how=\"left\",on=[\"Kod stanowiska\"])\n",
    "df_new_cdm=pd.merge(d_cdm,df_new_3,how=\"left\",on=[\"Kod stanowiska\"])\n"
   ]
  },
  {
   "cell_type": "code",
   "execution_count": 13,
   "id": "dc8671de",
   "metadata": {
    "execution": {
     "iopub.execute_input": "2024-01-08T09:33:50.958822Z",
     "iopub.status.busy": "2024-01-08T09:33:50.958615Z",
     "iopub.status.idle": "2024-01-08T09:33:50.990731Z",
     "shell.execute_reply": "2024-01-08T09:33:50.990103Z"
    },
    "papermill": {
     "duration": 0.037427,
     "end_time": "2024-01-08T09:33:50.992349",
     "exception": false,
     "start_time": "2024-01-08T09:33:50.954922",
     "status": "completed"
    },
    "tags": []
   },
   "outputs": [],
   "source": [
    "#export do csv \n",
    "#d_p10=df_p10.to_csv(index=False)\n",
    "#d_m_stanowiska = df_m_stanowiska.to_csv(index=False)\n",
    "#d_m_stacje = df_m_stacje.to_csv(index=False)\n",
    "#len(d_p10)\n",
    "#len(d_m_stanowiska)\n",
    "#df_p10\n",
    "cdm_csv=df_new_cdm.to_csv(\"/arcgis/home/cdm.csv\")\n",
    "pm10_csv=df_new_pm10.to_csv(\"/arcgis/home/pm10.csv\")\n",
    "pm25_csv=df_new_pm25.to_csv(\"/arcgis/home/pm25.csv\")"
   ]
  },
  {
   "cell_type": "code",
   "execution_count": 14,
   "id": "9a7b7269",
   "metadata": {
    "execution": {
     "iopub.execute_input": "2024-01-08T09:33:50.999558Z",
     "iopub.status.busy": "2024-01-08T09:33:50.999325Z",
     "iopub.status.idle": "2024-01-08T09:33:51.032899Z",
     "shell.execute_reply": "2024-01-08T09:33:51.032240Z"
    },
    "papermill": {
     "duration": 0.039279,
     "end_time": "2024-01-08T09:33:51.034674",
     "exception": false,
     "start_time": "2024-01-08T09:33:50.995395",
     "status": "completed"
    },
    "scrolled": true,
    "tags": []
   },
   "outputs": [
    {
     "data": {
      "text/html": [
       "<div>\n",
       "<style scoped>\n",
       "    .dataframe tbody tr th:only-of-type {\n",
       "        vertical-align: middle;\n",
       "    }\n",
       "\n",
       "    .dataframe tbody tr th {\n",
       "        vertical-align: top;\n",
       "    }\n",
       "\n",
       "    .dataframe thead th {\n",
       "        text-align: right;\n",
       "    }\n",
       "</style>\n",
       "<table border=\"1\" class=\"dataframe\">\n",
       "  <thead>\n",
       "    <tr style=\"text-align: right;\">\n",
       "      <th></th>\n",
       "      <th>Kod stanowiska</th>\n",
       "      <th>Data</th>\n",
       "      <th>Wartość</th>\n",
       "      <th>y</th>\n",
       "      <th>x</th>\n",
       "      <th>Nazwa strefy</th>\n",
       "      <th>Typ obszaru</th>\n",
       "      <th>Miejscowość</th>\n",
       "    </tr>\n",
       "  </thead>\n",
       "  <tbody>\n",
       "    <tr>\n",
       "      <th>0</th>\n",
       "      <td>DsKlodzSzkol-PM10-1g</td>\n",
       "      <td>2024-01-08 09:00:00</td>\n",
       "      <td>36.13820</td>\n",
       "      <td>50.433493</td>\n",
       "      <td>16.653660</td>\n",
       "      <td>strefa dolnośląska</td>\n",
       "      <td>miejski</td>\n",
       "      <td>Kłodzko</td>\n",
       "    </tr>\n",
       "    <tr>\n",
       "      <th>1</th>\n",
       "      <td>KpGrudPilsud-PM10-1g</td>\n",
       "      <td>2024-01-08 09:00:00</td>\n",
       "      <td>36.80000</td>\n",
       "      <td>53.493550</td>\n",
       "      <td>18.762139</td>\n",
       "      <td>strefa kujawsko - pomorska</td>\n",
       "      <td>miejski</td>\n",
       "      <td>Grudziądz</td>\n",
       "    </tr>\n",
       "    <tr>\n",
       "      <th>2</th>\n",
       "      <td>KpToruWSikor-PM10-1g</td>\n",
       "      <td>2024-01-08 09:00:00</td>\n",
       "      <td>26.70000</td>\n",
       "      <td>53.012475</td>\n",
       "      <td>18.605681</td>\n",
       "      <td>miasto Toruń</td>\n",
       "      <td>miejski</td>\n",
       "      <td>Toruń</td>\n",
       "    </tr>\n",
       "    <tr>\n",
       "      <th>3</th>\n",
       "      <td>KpBydPlPozna-PM10-1g</td>\n",
       "      <td>2024-01-08 09:00:00</td>\n",
       "      <td>24.20000</td>\n",
       "      <td>53.121764</td>\n",
       "      <td>17.987906</td>\n",
       "      <td>Aglomeracja Bydgoska</td>\n",
       "      <td>miejski</td>\n",
       "      <td>Bydgoszcz</td>\n",
       "    </tr>\n",
       "    <tr>\n",
       "      <th>4</th>\n",
       "      <td>KpBydWarszaw-PM10-1g</td>\n",
       "      <td>2024-01-08 09:00:00</td>\n",
       "      <td>29.30000</td>\n",
       "      <td>53.134083</td>\n",
       "      <td>17.995708</td>\n",
       "      <td>Aglomeracja Bydgoska</td>\n",
       "      <td>miejski</td>\n",
       "      <td>Bydgoszcz</td>\n",
       "    </tr>\n",
       "    <tr>\n",
       "      <th>5</th>\n",
       "      <td>KpToruDziewu-PM10-1g</td>\n",
       "      <td>2024-01-08 09:00:00</td>\n",
       "      <td>26.90000</td>\n",
       "      <td>53.028647</td>\n",
       "      <td>18.666103</td>\n",
       "      <td>miasto Toruń</td>\n",
       "      <td>miejski</td>\n",
       "      <td>Toruń</td>\n",
       "    </tr>\n",
       "    <tr>\n",
       "      <th>6</th>\n",
       "      <td>KpToruKaszow-PM10-1g</td>\n",
       "      <td>2024-01-08 09:00:00</td>\n",
       "      <td>37.30000</td>\n",
       "      <td>53.017628</td>\n",
       "      <td>18.612808</td>\n",
       "      <td>miasto Toruń</td>\n",
       "      <td>miejski</td>\n",
       "      <td>Toruń</td>\n",
       "    </tr>\n",
       "    <tr>\n",
       "      <th>7</th>\n",
       "      <td>KpWloclOkrze-PM10-1g</td>\n",
       "      <td>2024-01-08 09:00:00</td>\n",
       "      <td>32.20000</td>\n",
       "      <td>52.658467</td>\n",
       "      <td>19.059314</td>\n",
       "      <td>miasto Włocławek</td>\n",
       "      <td>miejski</td>\n",
       "      <td>Włocławek</td>\n",
       "    </tr>\n",
       "    <tr>\n",
       "      <th>8</th>\n",
       "      <td>LbLubObywate-PM10-1g</td>\n",
       "      <td>2024-01-08 09:00:00</td>\n",
       "      <td>21.70000</td>\n",
       "      <td>51.259431</td>\n",
       "      <td>22.569133</td>\n",
       "      <td>Aglomeracja Lubelska</td>\n",
       "      <td>miejski</td>\n",
       "      <td>Lublin</td>\n",
       "    </tr>\n",
       "    <tr>\n",
       "      <th>9</th>\n",
       "      <td>LdGajewUjWod-PM10-1g</td>\n",
       "      <td>2024-01-08 09:00:00</td>\n",
       "      <td>28.00000</td>\n",
       "      <td>52.143258</td>\n",
       "      <td>19.233217</td>\n",
       "      <td>strefa łódzka</td>\n",
       "      <td>pozamiejski</td>\n",
       "      <td>Gajew</td>\n",
       "    </tr>\n",
       "    <tr>\n",
       "      <th>10</th>\n",
       "      <td>LdLodzCzerni-PM10-1g</td>\n",
       "      <td>2024-01-08 09:00:00</td>\n",
       "      <td>30.00000</td>\n",
       "      <td>51.758050</td>\n",
       "      <td>19.529786</td>\n",
       "      <td>Aglomeracja Łódzka</td>\n",
       "      <td>miejski</td>\n",
       "      <td>Łódź</td>\n",
       "    </tr>\n",
       "    <tr>\n",
       "      <th>11</th>\n",
       "      <td>LdLodzGdansk-PM10-1g</td>\n",
       "      <td>2024-01-08 09:00:00</td>\n",
       "      <td>20.20000</td>\n",
       "      <td>51.775378</td>\n",
       "      <td>19.450992</td>\n",
       "      <td>Aglomeracja Łódzka</td>\n",
       "      <td>miejski</td>\n",
       "      <td>Łódź</td>\n",
       "    </tr>\n",
       "    <tr>\n",
       "      <th>12</th>\n",
       "      <td>LdPabiKonsta-PM10-1g</td>\n",
       "      <td>2024-01-08 09:00:00</td>\n",
       "      <td>35.00000</td>\n",
       "      <td>51.667981</td>\n",
       "      <td>19.368683</td>\n",
       "      <td>Aglomeracja Łódzka</td>\n",
       "      <td>miejski</td>\n",
       "      <td>Pabianice</td>\n",
       "    </tr>\n",
       "    <tr>\n",
       "      <th>13</th>\n",
       "      <td>LdZgieMielcz-PM10-1g</td>\n",
       "      <td>2024-01-08 09:00:00</td>\n",
       "      <td>29.00000</td>\n",
       "      <td>51.856692</td>\n",
       "      <td>19.421231</td>\n",
       "      <td>Aglomeracja Łódzka</td>\n",
       "      <td>miejski</td>\n",
       "      <td>Zgierz</td>\n",
       "    </tr>\n",
       "    <tr>\n",
       "      <th>14</th>\n",
       "      <td>LuWsKaziWiel-PM10-1g</td>\n",
       "      <td>2024-01-08 09:00:00</td>\n",
       "      <td>34.54540</td>\n",
       "      <td>51.799722</td>\n",
       "      <td>16.317500</td>\n",
       "      <td>strefa lubuska</td>\n",
       "      <td>miejski</td>\n",
       "      <td>Wschowa</td>\n",
       "    </tr>\n",
       "    <tr>\n",
       "      <th>15</th>\n",
       "      <td>MpKrakAlKras-PM10-1g</td>\n",
       "      <td>2024-01-08 09:00:00</td>\n",
       "      <td>31.50800</td>\n",
       "      <td>50.057678</td>\n",
       "      <td>19.926189</td>\n",
       "      <td>Aglomeracja Krakowska</td>\n",
       "      <td>miejski</td>\n",
       "      <td>Kraków</td>\n",
       "    </tr>\n",
       "    <tr>\n",
       "      <th>16</th>\n",
       "      <td>MpKrakBulwar-PM10-1g</td>\n",
       "      <td>2024-01-08 09:00:00</td>\n",
       "      <td>21.86320</td>\n",
       "      <td>50.069308</td>\n",
       "      <td>20.053492</td>\n",
       "      <td>Aglomeracja Krakowska</td>\n",
       "      <td>miejski</td>\n",
       "      <td>Kraków</td>\n",
       "    </tr>\n",
       "    <tr>\n",
       "      <th>17</th>\n",
       "      <td>MzPlocMiReja-PM10-1g</td>\n",
       "      <td>2024-01-08 09:00:00</td>\n",
       "      <td>31.70000</td>\n",
       "      <td>52.550938</td>\n",
       "      <td>19.709791</td>\n",
       "      <td>miasto Płock</td>\n",
       "      <td>miejski</td>\n",
       "      <td>Płock</td>\n",
       "    </tr>\n",
       "    <tr>\n",
       "      <th>18</th>\n",
       "      <td>MzRadTochter-PM10-1g</td>\n",
       "      <td>2024-01-08 09:00:00</td>\n",
       "      <td>23.70000</td>\n",
       "      <td>51.399084</td>\n",
       "      <td>21.147474</td>\n",
       "      <td>miasto Radom</td>\n",
       "      <td>miejski</td>\n",
       "      <td>Radom</td>\n",
       "    </tr>\n",
       "    <tr>\n",
       "      <th>19</th>\n",
       "      <td>MzSiedKonars-PM10-1g</td>\n",
       "      <td>2024-01-08 09:00:00</td>\n",
       "      <td>25.50000</td>\n",
       "      <td>52.172145</td>\n",
       "      <td>22.282001</td>\n",
       "      <td>strefa mazowiecka</td>\n",
       "      <td>miejski</td>\n",
       "      <td>Siedlce</td>\n",
       "    </tr>\n",
       "    <tr>\n",
       "      <th>20</th>\n",
       "      <td>MzWarAlNiepo-PM10-1g</td>\n",
       "      <td>2024-01-08 09:00:00</td>\n",
       "      <td>37.80000</td>\n",
       "      <td>52.219298</td>\n",
       "      <td>21.004724</td>\n",
       "      <td>Aglomeracja Warszawska</td>\n",
       "      <td>miejski</td>\n",
       "      <td>Warszawa</td>\n",
       "    </tr>\n",
       "    <tr>\n",
       "      <th>21</th>\n",
       "      <td>MzWarTolstoj-PM10-1g</td>\n",
       "      <td>2024-01-08 09:00:00</td>\n",
       "      <td>31.26000</td>\n",
       "      <td>52.285073</td>\n",
       "      <td>20.933018</td>\n",
       "      <td>Aglomeracja Warszawska</td>\n",
       "      <td>miejski</td>\n",
       "      <td>Warszawa</td>\n",
       "    </tr>\n",
       "    <tr>\n",
       "      <th>22</th>\n",
       "      <td>MzWarWokalna-PM10-1g</td>\n",
       "      <td>2024-01-08 09:00:00</td>\n",
       "      <td>26.90000</td>\n",
       "      <td>52.160772</td>\n",
       "      <td>21.033819</td>\n",
       "      <td>Aglomeracja Warszawska</td>\n",
       "      <td>miejski</td>\n",
       "      <td>Warszawa</td>\n",
       "    </tr>\n",
       "    <tr>\n",
       "      <th>23</th>\n",
       "      <td>MzWarKondrat-PM10-1g</td>\n",
       "      <td>2024-01-08 09:00:00</td>\n",
       "      <td>25.00000</td>\n",
       "      <td>52.290864</td>\n",
       "      <td>21.042458</td>\n",
       "      <td>Aglomeracja Warszawska</td>\n",
       "      <td>miejski</td>\n",
       "      <td>Warszawa</td>\n",
       "    </tr>\n",
       "    <tr>\n",
       "      <th>24</th>\n",
       "      <td>MzZyraRoosev-PM10-1g</td>\n",
       "      <td>2024-01-08 09:00:00</td>\n",
       "      <td>31.90000</td>\n",
       "      <td>52.053811</td>\n",
       "      <td>20.429892</td>\n",
       "      <td>strefa mazowiecka</td>\n",
       "      <td>miejski</td>\n",
       "      <td>Żyrardów</td>\n",
       "    </tr>\n",
       "    <tr>\n",
       "      <th>25</th>\n",
       "      <td>OpKKozBSmial-PM10-1g</td>\n",
       "      <td>2024-01-08 10:00:00</td>\n",
       "      <td>40.74340</td>\n",
       "      <td>50.349608</td>\n",
       "      <td>18.236575</td>\n",
       "      <td>strefa opolska</td>\n",
       "      <td>miejski</td>\n",
       "      <td>Kędzierzyn-Koźle</td>\n",
       "    </tr>\n",
       "    <tr>\n",
       "      <th>26</th>\n",
       "      <td>OpOlesSlowac-PM10-1g</td>\n",
       "      <td>2024-01-08 10:00:00</td>\n",
       "      <td>33.53890</td>\n",
       "      <td>50.876983</td>\n",
       "      <td>18.416878</td>\n",
       "      <td>strefa opolska</td>\n",
       "      <td>miejski</td>\n",
       "      <td>Olesno</td>\n",
       "    </tr>\n",
       "    <tr>\n",
       "      <th>27</th>\n",
       "      <td>OpZdziePiast-PM10-1g</td>\n",
       "      <td>2024-01-08 10:00:00</td>\n",
       "      <td>33.25040</td>\n",
       "      <td>50.423533</td>\n",
       "      <td>18.120739</td>\n",
       "      <td>strefa opolska</td>\n",
       "      <td>miejski</td>\n",
       "      <td>Zdzieszowice</td>\n",
       "    </tr>\n",
       "    <tr>\n",
       "      <th>28</th>\n",
       "      <td>PdBialWarsza-PM10-1g</td>\n",
       "      <td>2024-01-08 10:00:00</td>\n",
       "      <td>17.85000</td>\n",
       "      <td>53.129306</td>\n",
       "      <td>23.181744</td>\n",
       "      <td>Aglomeracja Białostocka</td>\n",
       "      <td>miejski</td>\n",
       "      <td>Białystok</td>\n",
       "    </tr>\n",
       "    <tr>\n",
       "      <th>29</th>\n",
       "      <td>PdLomSikorsk-PM10-1g</td>\n",
       "      <td>2024-01-08 10:00:00</td>\n",
       "      <td>23.40000</td>\n",
       "      <td>53.181394</td>\n",
       "      <td>22.054381</td>\n",
       "      <td>strefa podlaska</td>\n",
       "      <td>miejski</td>\n",
       "      <td>Łomża</td>\n",
       "    </tr>\n",
       "    <tr>\n",
       "      <th>30</th>\n",
       "      <td>PkPrzemGrunw-PM10-1g</td>\n",
       "      <td>2024-01-08 10:00:00</td>\n",
       "      <td>32.02950</td>\n",
       "      <td>49.784339</td>\n",
       "      <td>22.756239</td>\n",
       "      <td>strefa podkarpacka</td>\n",
       "      <td>miejski</td>\n",
       "      <td>Przemyśl</td>\n",
       "    </tr>\n",
       "    <tr>\n",
       "      <th>31</th>\n",
       "      <td>PmGdaWyzwole-PM10-1g</td>\n",
       "      <td>2024-01-08 10:00:00</td>\n",
       "      <td>8.38536</td>\n",
       "      <td>54.400833</td>\n",
       "      <td>18.657497</td>\n",
       "      <td>Aglomeracja Trójmiejska</td>\n",
       "      <td>miejski</td>\n",
       "      <td>Gdańsk</td>\n",
       "    </tr>\n",
       "    <tr>\n",
       "      <th>32</th>\n",
       "      <td>PmGdyPorebsk-PM10-1g</td>\n",
       "      <td>2024-01-08 10:00:00</td>\n",
       "      <td>8.27914</td>\n",
       "      <td>54.560836</td>\n",
       "      <td>18.493331</td>\n",
       "      <td>Aglomeracja Trójmiejska</td>\n",
       "      <td>miejski</td>\n",
       "      <td>Gdynia</td>\n",
       "    </tr>\n",
       "    <tr>\n",
       "      <th>33</th>\n",
       "      <td>PmGdaLeczkow-PM10-1g</td>\n",
       "      <td>2024-01-08 10:00:00</td>\n",
       "      <td>13.22650</td>\n",
       "      <td>54.380279</td>\n",
       "      <td>18.620274</td>\n",
       "      <td>Aglomeracja Trójmiejska</td>\n",
       "      <td>miejski</td>\n",
       "      <td>Gdańsk</td>\n",
       "    </tr>\n",
       "    <tr>\n",
       "      <th>34</th>\n",
       "      <td>PmKosTargowa-PM10-1g</td>\n",
       "      <td>2024-01-08 10:00:00</td>\n",
       "      <td>34.82580</td>\n",
       "      <td>54.120694</td>\n",
       "      <td>17.975861</td>\n",
       "      <td>strefa pomorska</td>\n",
       "      <td>miejski</td>\n",
       "      <td>Kościerzyna</td>\n",
       "    </tr>\n",
       "    <tr>\n",
       "      <th>35</th>\n",
       "      <td>SkNowiParkow-PM10-1g</td>\n",
       "      <td>2024-01-08 10:00:00</td>\n",
       "      <td>29.40000</td>\n",
       "      <td>50.823108</td>\n",
       "      <td>20.533506</td>\n",
       "      <td>strefa świętokrzyska</td>\n",
       "      <td>podmiejski</td>\n",
       "      <td>Nowiny</td>\n",
       "    </tr>\n",
       "    <tr>\n",
       "      <th>36</th>\n",
       "      <td>SkPolaRuszcz-PM10-1g</td>\n",
       "      <td>2024-01-08 10:00:00</td>\n",
       "      <td>21.00000</td>\n",
       "      <td>50.429014</td>\n",
       "      <td>21.277367</td>\n",
       "      <td>strefa świętokrzyska</td>\n",
       "      <td>miejski</td>\n",
       "      <td>Połaniec</td>\n",
       "    </tr>\n",
       "    <tr>\n",
       "      <th>37</th>\n",
       "      <td>SlKatoPlebA4-PM10-1g</td>\n",
       "      <td>2024-01-08 10:00:00</td>\n",
       "      <td>37.50850</td>\n",
       "      <td>50.246795</td>\n",
       "      <td>19.019469</td>\n",
       "      <td>Aglomeracja Górnośląska</td>\n",
       "      <td>miejski</td>\n",
       "      <td>Katowice</td>\n",
       "    </tr>\n",
       "    <tr>\n",
       "      <th>38</th>\n",
       "      <td>SlKatoKossut-PM10-1g</td>\n",
       "      <td>2024-01-08 10:00:00</td>\n",
       "      <td>29.91150</td>\n",
       "      <td>50.264611</td>\n",
       "      <td>18.975028</td>\n",
       "      <td>Aglomeracja Górnośląska</td>\n",
       "      <td>miejski</td>\n",
       "      <td>Katowice</td>\n",
       "    </tr>\n",
       "    <tr>\n",
       "      <th>39</th>\n",
       "      <td>SlRybniBorki-PM10-1g</td>\n",
       "      <td>2024-01-08 10:00:00</td>\n",
       "      <td>24.91520</td>\n",
       "      <td>50.111181</td>\n",
       "      <td>18.516139</td>\n",
       "      <td>Aglomeracja Rybnicko-Jastrzębska</td>\n",
       "      <td>miejski</td>\n",
       "      <td>Rybnik</td>\n",
       "    </tr>\n",
       "    <tr>\n",
       "      <th>40</th>\n",
       "      <td>SlSosnoLubel-PM10-1g</td>\n",
       "      <td>2024-01-08 10:00:00</td>\n",
       "      <td>24.27040</td>\n",
       "      <td>50.285956</td>\n",
       "      <td>19.184399</td>\n",
       "      <td>Aglomeracja Górnośląska</td>\n",
       "      <td>miejski</td>\n",
       "      <td>Sosnowiec</td>\n",
       "    </tr>\n",
       "    <tr>\n",
       "      <th>41</th>\n",
       "      <td>SlTychyTolst-PM10-1g</td>\n",
       "      <td>2024-01-08 10:00:00</td>\n",
       "      <td>23.39400</td>\n",
       "      <td>50.099903</td>\n",
       "      <td>18.990236</td>\n",
       "      <td>Aglomeracja Górnośląska</td>\n",
       "      <td>miejski</td>\n",
       "      <td>Tychy</td>\n",
       "    </tr>\n",
       "  </tbody>\n",
       "</table>\n",
       "</div>"
      ],
      "text/plain": [
       "          Kod stanowiska                 Data   Wartość          y          x  \\\n",
       "0   DsKlodzSzkol-PM10-1g  2024-01-08 09:00:00  36.13820  50.433493  16.653660   \n",
       "1   KpGrudPilsud-PM10-1g  2024-01-08 09:00:00  36.80000  53.493550  18.762139   \n",
       "2   KpToruWSikor-PM10-1g  2024-01-08 09:00:00  26.70000  53.012475  18.605681   \n",
       "3   KpBydPlPozna-PM10-1g  2024-01-08 09:00:00  24.20000  53.121764  17.987906   \n",
       "4   KpBydWarszaw-PM10-1g  2024-01-08 09:00:00  29.30000  53.134083  17.995708   \n",
       "5   KpToruDziewu-PM10-1g  2024-01-08 09:00:00  26.90000  53.028647  18.666103   \n",
       "6   KpToruKaszow-PM10-1g  2024-01-08 09:00:00  37.30000  53.017628  18.612808   \n",
       "7   KpWloclOkrze-PM10-1g  2024-01-08 09:00:00  32.20000  52.658467  19.059314   \n",
       "8   LbLubObywate-PM10-1g  2024-01-08 09:00:00  21.70000  51.259431  22.569133   \n",
       "9   LdGajewUjWod-PM10-1g  2024-01-08 09:00:00  28.00000  52.143258  19.233217   \n",
       "10  LdLodzCzerni-PM10-1g  2024-01-08 09:00:00  30.00000  51.758050  19.529786   \n",
       "11  LdLodzGdansk-PM10-1g  2024-01-08 09:00:00  20.20000  51.775378  19.450992   \n",
       "12  LdPabiKonsta-PM10-1g  2024-01-08 09:00:00  35.00000  51.667981  19.368683   \n",
       "13  LdZgieMielcz-PM10-1g  2024-01-08 09:00:00  29.00000  51.856692  19.421231   \n",
       "14  LuWsKaziWiel-PM10-1g  2024-01-08 09:00:00  34.54540  51.799722  16.317500   \n",
       "15  MpKrakAlKras-PM10-1g  2024-01-08 09:00:00  31.50800  50.057678  19.926189   \n",
       "16  MpKrakBulwar-PM10-1g  2024-01-08 09:00:00  21.86320  50.069308  20.053492   \n",
       "17  MzPlocMiReja-PM10-1g  2024-01-08 09:00:00  31.70000  52.550938  19.709791   \n",
       "18  MzRadTochter-PM10-1g  2024-01-08 09:00:00  23.70000  51.399084  21.147474   \n",
       "19  MzSiedKonars-PM10-1g  2024-01-08 09:00:00  25.50000  52.172145  22.282001   \n",
       "20  MzWarAlNiepo-PM10-1g  2024-01-08 09:00:00  37.80000  52.219298  21.004724   \n",
       "21  MzWarTolstoj-PM10-1g  2024-01-08 09:00:00  31.26000  52.285073  20.933018   \n",
       "22  MzWarWokalna-PM10-1g  2024-01-08 09:00:00  26.90000  52.160772  21.033819   \n",
       "23  MzWarKondrat-PM10-1g  2024-01-08 09:00:00  25.00000  52.290864  21.042458   \n",
       "24  MzZyraRoosev-PM10-1g  2024-01-08 09:00:00  31.90000  52.053811  20.429892   \n",
       "25  OpKKozBSmial-PM10-1g  2024-01-08 10:00:00  40.74340  50.349608  18.236575   \n",
       "26  OpOlesSlowac-PM10-1g  2024-01-08 10:00:00  33.53890  50.876983  18.416878   \n",
       "27  OpZdziePiast-PM10-1g  2024-01-08 10:00:00  33.25040  50.423533  18.120739   \n",
       "28  PdBialWarsza-PM10-1g  2024-01-08 10:00:00  17.85000  53.129306  23.181744   \n",
       "29  PdLomSikorsk-PM10-1g  2024-01-08 10:00:00  23.40000  53.181394  22.054381   \n",
       "30  PkPrzemGrunw-PM10-1g  2024-01-08 10:00:00  32.02950  49.784339  22.756239   \n",
       "31  PmGdaWyzwole-PM10-1g  2024-01-08 10:00:00   8.38536  54.400833  18.657497   \n",
       "32  PmGdyPorebsk-PM10-1g  2024-01-08 10:00:00   8.27914  54.560836  18.493331   \n",
       "33  PmGdaLeczkow-PM10-1g  2024-01-08 10:00:00  13.22650  54.380279  18.620274   \n",
       "34  PmKosTargowa-PM10-1g  2024-01-08 10:00:00  34.82580  54.120694  17.975861   \n",
       "35  SkNowiParkow-PM10-1g  2024-01-08 10:00:00  29.40000  50.823108  20.533506   \n",
       "36  SkPolaRuszcz-PM10-1g  2024-01-08 10:00:00  21.00000  50.429014  21.277367   \n",
       "37  SlKatoPlebA4-PM10-1g  2024-01-08 10:00:00  37.50850  50.246795  19.019469   \n",
       "38  SlKatoKossut-PM10-1g  2024-01-08 10:00:00  29.91150  50.264611  18.975028   \n",
       "39  SlRybniBorki-PM10-1g  2024-01-08 10:00:00  24.91520  50.111181  18.516139   \n",
       "40  SlSosnoLubel-PM10-1g  2024-01-08 10:00:00  24.27040  50.285956  19.184399   \n",
       "41  SlTychyTolst-PM10-1g  2024-01-08 10:00:00  23.39400  50.099903  18.990236   \n",
       "\n",
       "                        Nazwa strefy  Typ obszaru       Miejscowość  \n",
       "0                 strefa dolnośląska      miejski           Kłodzko  \n",
       "1         strefa kujawsko - pomorska      miejski         Grudziądz  \n",
       "2                       miasto Toruń      miejski             Toruń  \n",
       "3               Aglomeracja Bydgoska      miejski         Bydgoszcz  \n",
       "4               Aglomeracja Bydgoska      miejski         Bydgoszcz  \n",
       "5                       miasto Toruń      miejski             Toruń  \n",
       "6                       miasto Toruń      miejski             Toruń  \n",
       "7                   miasto Włocławek      miejski         Włocławek  \n",
       "8               Aglomeracja Lubelska      miejski            Lublin  \n",
       "9                      strefa łódzka  pozamiejski             Gajew  \n",
       "10                Aglomeracja Łódzka      miejski              Łódź  \n",
       "11                Aglomeracja Łódzka      miejski              Łódź  \n",
       "12                Aglomeracja Łódzka      miejski         Pabianice  \n",
       "13                Aglomeracja Łódzka      miejski            Zgierz  \n",
       "14                    strefa lubuska      miejski           Wschowa  \n",
       "15             Aglomeracja Krakowska      miejski            Kraków  \n",
       "16             Aglomeracja Krakowska      miejski            Kraków  \n",
       "17                      miasto Płock      miejski             Płock  \n",
       "18                      miasto Radom      miejski             Radom  \n",
       "19                 strefa mazowiecka      miejski           Siedlce  \n",
       "20            Aglomeracja Warszawska      miejski          Warszawa  \n",
       "21            Aglomeracja Warszawska      miejski          Warszawa  \n",
       "22            Aglomeracja Warszawska      miejski          Warszawa  \n",
       "23            Aglomeracja Warszawska      miejski          Warszawa  \n",
       "24                 strefa mazowiecka      miejski          Żyrardów  \n",
       "25                    strefa opolska      miejski  Kędzierzyn-Koźle  \n",
       "26                    strefa opolska      miejski            Olesno  \n",
       "27                    strefa opolska      miejski      Zdzieszowice  \n",
       "28           Aglomeracja Białostocka      miejski         Białystok  \n",
       "29                   strefa podlaska      miejski             Łomża  \n",
       "30                strefa podkarpacka      miejski          Przemyśl  \n",
       "31           Aglomeracja Trójmiejska      miejski            Gdańsk  \n",
       "32           Aglomeracja Trójmiejska      miejski            Gdynia  \n",
       "33           Aglomeracja Trójmiejska      miejski            Gdańsk  \n",
       "34                   strefa pomorska      miejski       Kościerzyna  \n",
       "35              strefa świętokrzyska   podmiejski            Nowiny  \n",
       "36              strefa świętokrzyska      miejski          Połaniec  \n",
       "37           Aglomeracja Górnośląska      miejski          Katowice  \n",
       "38           Aglomeracja Górnośląska      miejski          Katowice  \n",
       "39  Aglomeracja Rybnicko-Jastrzębska      miejski            Rybnik  \n",
       "40           Aglomeracja Górnośląska      miejski         Sosnowiec  \n",
       "41           Aglomeracja Górnośląska      miejski             Tychy  "
      ]
     },
     "execution_count": 14,
     "metadata": {},
     "output_type": "execute_result"
    }
   ],
   "source": [
    "df_new_pm10"
   ]
  },
  {
   "cell_type": "code",
   "execution_count": 15,
   "id": "d3f5eed3",
   "metadata": {
    "execution": {
     "iopub.execute_input": "2024-01-08T09:33:51.043219Z",
     "iopub.status.busy": "2024-01-08T09:33:51.042673Z",
     "iopub.status.idle": "2024-01-08T09:33:51.046833Z",
     "shell.execute_reply": "2024-01-08T09:33:51.046211Z"
    },
    "papermill": {
     "duration": 0.010091,
     "end_time": "2024-01-08T09:33:51.048291",
     "exception": false,
     "start_time": "2024-01-08T09:33:51.038200",
     "status": "completed"
    },
    "tags": []
   },
   "outputs": [],
   "source": [
    "from arcgis.features import FeatureSet,FeatureLayerCollection\n",
    "from arcgis.mapping import WebMap"
   ]
  },
  {
   "cell_type": "code",
   "execution_count": 16,
   "id": "b3974e07",
   "metadata": {
    "execution": {
     "iopub.execute_input": "2024-01-08T09:33:51.055981Z",
     "iopub.status.busy": "2024-01-08T09:33:51.055781Z",
     "iopub.status.idle": "2024-01-08T09:33:51.058624Z",
     "shell.execute_reply": "2024-01-08T09:33:51.058024Z"
    },
    "papermill": {
     "duration": 0.008312,
     "end_time": "2024-01-08T09:33:51.059933",
     "exception": false,
     "start_time": "2024-01-08T09:33:51.051621",
     "status": "completed"
    },
    "tags": []
   },
   "outputs": [],
   "source": [
    "#tworzenie obiektu klasy WebMap z mapa projektowa\n",
    "#wm_item = gis.content.search('mapa_projekt_2')[0]\n",
    "#wwm = WebMap(wm_item)\n"
   ]
  },
  {
   "cell_type": "code",
   "execution_count": 17,
   "id": "139814d4",
   "metadata": {
    "execution": {
     "iopub.execute_input": "2024-01-08T09:33:51.067749Z",
     "iopub.status.busy": "2024-01-08T09:33:51.067551Z",
     "iopub.status.idle": "2024-01-08T09:33:51.072283Z",
     "shell.execute_reply": "2024-01-08T09:33:51.071630Z"
    },
    "papermill": {
     "duration": 0.010184,
     "end_time": "2024-01-08T09:33:51.073604",
     "exception": false,
     "start_time": "2024-01-08T09:33:51.063420",
     "status": "completed"
    },
    "tags": []
   },
   "outputs": [
    {
     "data": {
      "text/plain": [
       "'\\npm10_properties3 = {\\n  \"title\": \"pm10_p3\",\\n  \"description\": \"pm10 imported from CSV file\",\\n  \"tags\": \"pm10_p3\"\\n}\\n\\ncsv3_file = \\'home/pm10.csv\\'\\ncsv3_item = gis.content.add(pm10_properties3, csv3_file)\\npm10_p3=csv3_item.publish()\\npm10_flc3=FeatureLayerCollection.fromitem(pm10_p3)\\n\\n\\n\\no3_properties = {\\n  \"title\": \"o3_p3\",\\n  \"description\": \"o3 imported from CSV file\",\\n  \"tags\": \"o3_p3\"\\n}\\n\\ncsv3_file1 = \\'home/cdm.csv\\'\\ncsv3_item1 = gis.content.add(o3_properties, csv3_file1)\\no3_p3=csv3_item1.publish()\\no3_p3_flc=FeatureLayerCollection.fromitem(o3_p3)\\n\\npm25_properties3 = {\\n  \"title\": \"pm25_p3\",\\n  \"description\": \"pm25 imported from CSV file\",\\n  \"tags\": \"pm25_p3\"\\n}\\n\\ncsv3_file2 = \\'home/pm25.csv\\'\\ncsv3_item2 = gis.content.add(pm25_properties3, csv3_file2)\\npm25_p3=csv3_item2.publish()\\npm25_flc3=FeatureLayerCollection.fromitem(pm25_p3)\\n'"
      ]
     },
     "execution_count": 17,
     "metadata": {},
     "output_type": "execute_result"
    }
   ],
   "source": [
    "#tworzenie 3 FLC na bazie pobranych danych (tylko 1. raz)\n",
    "'''\n",
    "pm10_properties3 = {\n",
    "  \"title\": \"pm10_p3\",\n",
    "  \"description\": \"pm10 imported from CSV file\",\n",
    "  \"tags\": \"pm10_p3\"\n",
    "}\n",
    "\n",
    "csv3_file = 'home/pm10.csv'\n",
    "csv3_item = gis.content.add(pm10_properties3, csv3_file)\n",
    "pm10_p3=csv3_item.publish()\n",
    "pm10_flc3=FeatureLayerCollection.fromitem(pm10_p3)\n",
    "\n",
    "\n",
    "\n",
    "o3_properties = {\n",
    "  \"title\": \"o3_p3\",\n",
    "  \"description\": \"o3 imported from CSV file\",\n",
    "  \"tags\": \"o3_p3\"\n",
    "}\n",
    "\n",
    "csv3_file1 = 'home/cdm.csv'\n",
    "csv3_item1 = gis.content.add(o3_properties, csv3_file1)\n",
    "o3_p3=csv3_item1.publish()\n",
    "o3_p3_flc=FeatureLayerCollection.fromitem(o3_p3)\n",
    "\n",
    "pm25_properties3 = {\n",
    "  \"title\": \"pm25_p3\",\n",
    "  \"description\": \"pm25 imported from CSV file\",\n",
    "  \"tags\": \"pm25_p3\"\n",
    "}\n",
    "\n",
    "csv3_file2 = 'home/pm25.csv'\n",
    "csv3_item2 = gis.content.add(pm25_properties3, csv3_file2)\n",
    "pm25_p3=csv3_item2.publish()\n",
    "pm25_flc3=FeatureLayerCollection.fromitem(pm25_p3)\n",
    "'''"
   ]
  },
  {
   "cell_type": "code",
   "execution_count": 18,
   "id": "f5a655fe",
   "metadata": {
    "execution": {
     "iopub.execute_input": "2024-01-08T09:33:51.081837Z",
     "iopub.status.busy": "2024-01-08T09:33:51.081342Z",
     "iopub.status.idle": "2024-01-08T09:33:51.085504Z",
     "shell.execute_reply": "2024-01-08T09:33:51.084857Z"
    },
    "papermill": {
     "duration": 0.00975,
     "end_time": "2024-01-08T09:33:51.086808",
     "exception": false,
     "start_time": "2024-01-08T09:33:51.077058",
     "status": "completed"
    },
    "tags": []
   },
   "outputs": [
    {
     "data": {
      "text/plain": [
       "'\\nwm.add_layer(o3_p3_flc)\\nwm.add_layer(pm25_flc3)\\nwm.add_layer(pm10_flc3)\\n'"
      ]
     },
     "execution_count": 18,
     "metadata": {},
     "output_type": "execute_result"
    }
   ],
   "source": [
    "#dodawanie warstw do mapy (tylko 1. raz)\n",
    "'''\n",
    "wm.add_layer(o3_p3_flc)\n",
    "wm.add_layer(pm25_flc3)\n",
    "wm.add_layer(pm10_flc3)\n",
    "'''"
   ]
  },
  {
   "cell_type": "code",
   "execution_count": 19,
   "id": "113a27ad",
   "metadata": {
    "execution": {
     "iopub.execute_input": "2024-01-08T09:33:51.094927Z",
     "iopub.status.busy": "2024-01-08T09:33:51.094719Z",
     "iopub.status.idle": "2024-01-08T09:34:39.933698Z",
     "shell.execute_reply": "2024-01-08T09:34:39.933041Z"
    },
    "papermill": {
     "duration": 48.844825,
     "end_time": "2024-01-08T09:34:39.935189",
     "exception": false,
     "start_time": "2024-01-08T09:33:51.090364",
     "status": "completed"
    },
    "tags": []
   },
   "outputs": [
    {
     "data": {
      "text/plain": [
       "{'success': True}"
      ]
     },
     "execution_count": 19,
     "metadata": {},
     "output_type": "execute_result"
    }
   ],
   "source": [
    "#updatowanie danych w FLC o nowopobrane dane\n",
    "FeatureLayerCollection.fromitem(gis.content.get('5978a7c3c56140c7a63a0d52670831d7')).manager.overwrite('/arcgis/home/pm10.csv')\n",
    "FeatureLayerCollection.fromitem(gis.content.get('5295d605747c4304a605c92b94850233')).manager.overwrite('/arcgis/home/pm25.csv')\n",
    "FeatureLayerCollection.fromitem(gis.content.get('f284acf6faa543818a682c8e976041f7')).manager.overwrite('/arcgis/home/cdm.csv')"
   ]
  },
  {
   "cell_type": "code",
   "execution_count": 20,
   "id": "9ff0af25",
   "metadata": {
    "execution": {
     "iopub.execute_input": "2024-01-08T09:34:39.943893Z",
     "iopub.status.busy": "2024-01-08T09:34:39.943667Z",
     "iopub.status.idle": "2024-01-08T09:34:39.946667Z",
     "shell.execute_reply": "2024-01-08T09:34:39.945988Z"
    },
    "papermill": {
     "duration": 0.009012,
     "end_time": "2024-01-08T09:34:39.947989",
     "exception": false,
     "start_time": "2024-01-08T09:34:39.938977",
     "status": "completed"
    },
    "tags": []
   },
   "outputs": [],
   "source": [
    "#wm.update()\n",
    "#updatowanie mapy (tylko raz)"
   ]
  },
  {
   "cell_type": "code",
   "execution_count": null,
   "id": "37479af3",
   "metadata": {
    "papermill": {
     "duration": 0.003679,
     "end_time": "2024-01-08T09:34:39.955268",
     "exception": false,
     "start_time": "2024-01-08T09:34:39.951589",
     "status": "completed"
    },
    "tags": []
   },
   "outputs": [],
   "source": []
  }
 ],
 "metadata": {
  "esriNotebookRuntime": {
   "notebookRuntimeName": "ArcGIS Notebook Python 3 Standard",
   "notebookRuntimeVersion": "9.0"
  },
  "kernelspec": {
   "display_name": "Python 3 (ipykernel)",
   "language": "python",
   "name": "python3"
  },
  "language_info": {
   "codemirror_mode": {
    "name": "ipython",
    "version": 3
   },
   "file_extension": ".py",
   "mimetype": "text/x-python",
   "name": "python",
   "nbconvert_exporter": "python",
   "pygments_lexer": "ipython3",
   "version": "3.9.18"
  },
  "papermill": {
   "default_parameters": {},
   "duration": 4333.700728,
   "end_time": "2024-01-08T09:34:40.365012",
   "environment_variables": {},
   "exception": null,
   "input_path": "/tmp/arcgis/.tasks/7fefeff69fa04eeab5aad8dd18135ab0/da00d0aaf8b1445dadf7a08cac2c81fd.ipynb",
   "output_path": "/tmp/arcgis/.tasks/7fefeff69fa04eeab5aad8dd18135ab0/output.ipynb",
   "start_time": "2024-01-08T08:22:26.664284",
   "version": "2.3.4"
  }
 },
 "nbformat": 4,
 "nbformat_minor": 5
}
